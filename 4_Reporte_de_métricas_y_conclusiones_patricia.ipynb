{
  "nbformat": 4,
  "nbformat_minor": 0,
  "metadata": {
    "colab": {
      "provenance": []
    },
    "kernelspec": {
      "name": "python3",
      "display_name": "Python 3"
    },
    "language_info": {
      "name": "python"
    }
  },
  "cells": [
    {
      "cell_type": "markdown",
      "source": [
        "#*Random Forest*"
      ],
      "metadata": {
        "id": "Vn_BGyV7kbw4"
      }
    },
    {
      "cell_type": "markdown",
      "source": [
        "La precisión esta alta 99% por lo que es un sobreajuste, se tiene que revisar los calculos de baseline accuracy.  \n",
        "\n",
        "*Precisión:*  \n",
        "Clase 0: 0.67  \n",
        "Clase 1: 0.75  \n",
        "  \n",
        "El modelo tiene una precisión ligeramente mejor para la clase 1 que para la clase 0.  \n",
        "  \n",
        "*Recall*\n",
        "\n",
        "Clase 0: 0.72  \n",
        "Clase 1: 0.71  \n",
        "Ambos valores son relativamente equilibrados y aceptables.\n",
        "  \n",
        "*F1-Score:*\n",
        "\n",
        "Clase 0: 0.69  \n",
        "Clase 1: 0.73  \n",
        "La clase 1 tiene un F1-score ligeramente mejor que la clase 0, lo que sugiere que el modelo maneja ligeramente mejor la clase 1.  \n",
        "  \n",
        "\n",
        "*Comentarios*  \n",
        "Se puede decir que tiene un buen rendimiento al marcar 72% pero un sobreajuste en entrenamiento de 99%, además de que puede tener un sesgo hacia la clase 1, aprende bien pero no generaliza tan bien los datos no vistos.  \n",
        "\n",
        "El baseline accuracy se tiene que volver a calcular.\n",
        "\n",
        "Se podrían revisar otros hiperparametros, buscar técnicas de regularización, otro número de árboles para ver si mejora la generalización.\n",
        "  \n",
        "\n",
        "\n"
      ],
      "metadata": {
        "id": "smfOy1qyksMP"
      }
    },
    {
      "cell_type": "markdown",
      "source": [
        "#*Deep Learning*"
      ],
      "metadata": {
        "id": "7Xj0u0Ofkbs6"
      }
    },
    {
      "cell_type": "markdown",
      "source": [
        "La pérdida y validacion están en 0.69, por lo que es un valor alto para la función, el modelo no está aprendiendo bien.  \n",
        "\n",
        "accuracy: 0.5482 y val_accuracy: 0.5298 son bajas apenas y pasan el 50% lo que se expresa en que el modelo tiene un rendimiento bajo.  \n",
        "\n",
        "Precisión  \n",
        "Clase 0: 0.60  \n",
        "Clase 1: 0.55  \n",
        "Aunque la clase 0 es mayor que la clase 1 sigue siendo baja  \n",
        "\n",
        "Recall  \n",
        "Clase 0: 0.02  \n",
        "Clase 1: 0.99  \n",
        "El recall para la clase 0 es extremadamente bajo, indicando que el modelo tiene dificultades significativas para identificar correctamente ejemplos de la clase 0. El modelo predice la mayoría de los ejemplos como clase 1.  \n",
        "\n",
        "F1-Score  \n",
        "Clase 0: 0.03  \n",
        "Clase 1: 0.71  \n",
        "El F1-score para la clase 0 es extremadamente bajo, lo que refuerza la observación de que el modelo está fallando en identificar correctamente la clase 0.  \n",
        "  \n",
        "--- Comentarios ---  \n",
        "  \n",
        "\n",
        "El modelo tiene un rendimiento muy pobre, esto se puede observar en la precisión\n",
        "  \n",
        "0>> 0.60  \n",
        "1>> 0.55\n",
        "  \n",
        "y en F1-Score  \n",
        "0>> 0.03  \n",
        "1>> 0.71  \n",
        "\n",
        "El modelo está sesgado hacia la clase 1, podría ser por un desbalance de clases en el conjunto de datos o a un aprendizaje ineficaz del modelo.  \n",
        "  \n",
        "Las métricas de entrenamiento y validación son similares, el modelo está subajustado, lo que no le permite capturar las complejidades del problema. Esto es consistente con la alta pérdida y la baja precisión.  \n",
        "  \n",
        "\n",
        "Se tendría que hacer algunas modificaciones que por tiempo no puedo como:  \n",
        "*Revisar el preprocesamiento  \n",
        "*Eliminación de ruido  \n",
        "*Usar diferentes tamaños de capa y estructuras de red   *Revisar técnicas de regularización  \n",
        "*Ajustar hiperparametros  "
      ],
      "metadata": {
        "id": "3DjYlNnnks-0"
      }
    }
  ]
}