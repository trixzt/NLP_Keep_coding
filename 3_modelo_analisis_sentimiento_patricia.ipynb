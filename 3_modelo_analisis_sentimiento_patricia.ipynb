{
  "nbformat": 4,
  "nbformat_minor": 0,
  "metadata": {
    "colab": {
      "provenance": []
    },
    "kernelspec": {
      "name": "python3",
      "display_name": "Python 3"
    },
    "language_info": {
      "name": "python"
    }
  },
  "cells": [
    {
      "cell_type": "markdown",
      "source": [
        "# 3. Etapa de entrenamiento y testeo de un modelo de análisis de sentimiento\n",
        "\n",
        "Voy a cargar el .csv generado en el notebook anterior 2_Etapa_de_preprocesado_de_texto"
      ],
      "metadata": {
        "id": "axr7KFDI0PW9"
      }
    },
    {
      "cell_type": "code",
      "execution_count": 1,
      "metadata": {
        "id": "sBeja9yIuRKu"
      },
      "outputs": [],
      "source": [
        "import pandas as pd"
      ]
    },
    {
      "cell_type": "code",
      "source": [
        "# Conectar con el almacenamiento de GoogleDrive\n",
        "from google.colab import drive\n",
        "drive.mount('/content/drive')"
      ],
      "metadata": {
        "colab": {
          "base_uri": "https://localhost:8080/"
        },
        "id": "4P2uHQnQulX-",
        "outputId": "e3b6cc0f-3067-443c-cf1d-4b6d5793a7af"
      },
      "execution_count": 2,
      "outputs": [
        {
          "output_type": "stream",
          "name": "stdout",
          "text": [
            "Drive already mounted at /content/drive; to attempt to forcibly remount, call drive.mount(\"/content/drive\", force_remount=True).\n"
          ]
        }
      ]
    },
    {
      "cell_type": "code",
      "source": [
        "# cargar df del notebook anterior\n",
        "sample_beauty3 = pd.read_csv('/content/drive/MyDrive/preprocessing_data.csv')\n",
        "\n",
        "# vista del df\n",
        "sample_beauty3.head(3)"
      ],
      "metadata": {
        "colab": {
          "base_uri": "https://localhost:8080/",
          "height": 143
        },
        "id": "8xpTOfFBundP",
        "outputId": "87dd0bca-5171-4635-fd6f-e84ffae15d7f"
      },
      "execution_count": 3,
      "outputs": [
        {
          "output_type": "execute_result",
          "data": {
            "text/plain": [
              "   overall                                         reviewText  \\\n",
              "0        0  The color that comes out of this sunless tanne...   \n",
              "1        0  I love this brand, but this one didn't work as...   \n",
              "2        0                         Smells ok. Not too strong.   \n",
              "\n",
              "                                  normalization_revs  \n",
              "0  color come sunless tanner incredible familiar ...  \n",
              "1  love brand one work expecting like perfect hai...  \n",
              "2                                    smell ok strong  "
            ],
            "text/html": [
              "\n",
              "  <div id=\"df-b19a3cf4-2f87-4d8c-b8b9-92ea6b7710aa\" class=\"colab-df-container\">\n",
              "    <div>\n",
              "<style scoped>\n",
              "    .dataframe tbody tr th:only-of-type {\n",
              "        vertical-align: middle;\n",
              "    }\n",
              "\n",
              "    .dataframe tbody tr th {\n",
              "        vertical-align: top;\n",
              "    }\n",
              "\n",
              "    .dataframe thead th {\n",
              "        text-align: right;\n",
              "    }\n",
              "</style>\n",
              "<table border=\"1\" class=\"dataframe\">\n",
              "  <thead>\n",
              "    <tr style=\"text-align: right;\">\n",
              "      <th></th>\n",
              "      <th>overall</th>\n",
              "      <th>reviewText</th>\n",
              "      <th>normalization_revs</th>\n",
              "    </tr>\n",
              "  </thead>\n",
              "  <tbody>\n",
              "    <tr>\n",
              "      <th>0</th>\n",
              "      <td>0</td>\n",
              "      <td>The color that comes out of this sunless tanne...</td>\n",
              "      <td>color come sunless tanner incredible familiar ...</td>\n",
              "    </tr>\n",
              "    <tr>\n",
              "      <th>1</th>\n",
              "      <td>0</td>\n",
              "      <td>I love this brand, but this one didn't work as...</td>\n",
              "      <td>love brand one work expecting like perfect hai...</td>\n",
              "    </tr>\n",
              "    <tr>\n",
              "      <th>2</th>\n",
              "      <td>0</td>\n",
              "      <td>Smells ok. Not too strong.</td>\n",
              "      <td>smell ok strong</td>\n",
              "    </tr>\n",
              "  </tbody>\n",
              "</table>\n",
              "</div>\n",
              "    <div class=\"colab-df-buttons\">\n",
              "\n",
              "  <div class=\"colab-df-container\">\n",
              "    <button class=\"colab-df-convert\" onclick=\"convertToInteractive('df-b19a3cf4-2f87-4d8c-b8b9-92ea6b7710aa')\"\n",
              "            title=\"Convert this dataframe to an interactive table.\"\n",
              "            style=\"display:none;\">\n",
              "\n",
              "  <svg xmlns=\"http://www.w3.org/2000/svg\" height=\"24px\" viewBox=\"0 -960 960 960\">\n",
              "    <path d=\"M120-120v-720h720v720H120Zm60-500h600v-160H180v160Zm220 220h160v-160H400v160Zm0 220h160v-160H400v160ZM180-400h160v-160H180v160Zm440 0h160v-160H620v160ZM180-180h160v-160H180v160Zm440 0h160v-160H620v160Z\"/>\n",
              "  </svg>\n",
              "    </button>\n",
              "\n",
              "  <style>\n",
              "    .colab-df-container {\n",
              "      display:flex;\n",
              "      gap: 12px;\n",
              "    }\n",
              "\n",
              "    .colab-df-convert {\n",
              "      background-color: #E8F0FE;\n",
              "      border: none;\n",
              "      border-radius: 50%;\n",
              "      cursor: pointer;\n",
              "      display: none;\n",
              "      fill: #1967D2;\n",
              "      height: 32px;\n",
              "      padding: 0 0 0 0;\n",
              "      width: 32px;\n",
              "    }\n",
              "\n",
              "    .colab-df-convert:hover {\n",
              "      background-color: #E2EBFA;\n",
              "      box-shadow: 0px 1px 2px rgba(60, 64, 67, 0.3), 0px 1px 3px 1px rgba(60, 64, 67, 0.15);\n",
              "      fill: #174EA6;\n",
              "    }\n",
              "\n",
              "    .colab-df-buttons div {\n",
              "      margin-bottom: 4px;\n",
              "    }\n",
              "\n",
              "    [theme=dark] .colab-df-convert {\n",
              "      background-color: #3B4455;\n",
              "      fill: #D2E3FC;\n",
              "    }\n",
              "\n",
              "    [theme=dark] .colab-df-convert:hover {\n",
              "      background-color: #434B5C;\n",
              "      box-shadow: 0px 1px 3px 1px rgba(0, 0, 0, 0.15);\n",
              "      filter: drop-shadow(0px 1px 2px rgba(0, 0, 0, 0.3));\n",
              "      fill: #FFFFFF;\n",
              "    }\n",
              "  </style>\n",
              "\n",
              "    <script>\n",
              "      const buttonEl =\n",
              "        document.querySelector('#df-b19a3cf4-2f87-4d8c-b8b9-92ea6b7710aa button.colab-df-convert');\n",
              "      buttonEl.style.display =\n",
              "        google.colab.kernel.accessAllowed ? 'block' : 'none';\n",
              "\n",
              "      async function convertToInteractive(key) {\n",
              "        const element = document.querySelector('#df-b19a3cf4-2f87-4d8c-b8b9-92ea6b7710aa');\n",
              "        const dataTable =\n",
              "          await google.colab.kernel.invokeFunction('convertToInteractive',\n",
              "                                                    [key], {});\n",
              "        if (!dataTable) return;\n",
              "\n",
              "        const docLinkHtml = 'Like what you see? Visit the ' +\n",
              "          '<a target=\"_blank\" href=https://colab.research.google.com/notebooks/data_table.ipynb>data table notebook</a>'\n",
              "          + ' to learn more about interactive tables.';\n",
              "        element.innerHTML = '';\n",
              "        dataTable['output_type'] = 'display_data';\n",
              "        await google.colab.output.renderOutput(dataTable, element);\n",
              "        const docLink = document.createElement('div');\n",
              "        docLink.innerHTML = docLinkHtml;\n",
              "        element.appendChild(docLink);\n",
              "      }\n",
              "    </script>\n",
              "  </div>\n",
              "\n",
              "\n",
              "<div id=\"df-46b515bb-5862-4925-bb96-95c777d5ee0a\">\n",
              "  <button class=\"colab-df-quickchart\" onclick=\"quickchart('df-46b515bb-5862-4925-bb96-95c777d5ee0a')\"\n",
              "            title=\"Suggest charts\"\n",
              "            style=\"display:none;\">\n",
              "\n",
              "<svg xmlns=\"http://www.w3.org/2000/svg\" height=\"24px\"viewBox=\"0 0 24 24\"\n",
              "     width=\"24px\">\n",
              "    <g>\n",
              "        <path d=\"M19 3H5c-1.1 0-2 .9-2 2v14c0 1.1.9 2 2 2h14c1.1 0 2-.9 2-2V5c0-1.1-.9-2-2-2zM9 17H7v-7h2v7zm4 0h-2V7h2v10zm4 0h-2v-4h2v4z\"/>\n",
              "    </g>\n",
              "</svg>\n",
              "  </button>\n",
              "\n",
              "<style>\n",
              "  .colab-df-quickchart {\n",
              "      --bg-color: #E8F0FE;\n",
              "      --fill-color: #1967D2;\n",
              "      --hover-bg-color: #E2EBFA;\n",
              "      --hover-fill-color: #174EA6;\n",
              "      --disabled-fill-color: #AAA;\n",
              "      --disabled-bg-color: #DDD;\n",
              "  }\n",
              "\n",
              "  [theme=dark] .colab-df-quickchart {\n",
              "      --bg-color: #3B4455;\n",
              "      --fill-color: #D2E3FC;\n",
              "      --hover-bg-color: #434B5C;\n",
              "      --hover-fill-color: #FFFFFF;\n",
              "      --disabled-bg-color: #3B4455;\n",
              "      --disabled-fill-color: #666;\n",
              "  }\n",
              "\n",
              "  .colab-df-quickchart {\n",
              "    background-color: var(--bg-color);\n",
              "    border: none;\n",
              "    border-radius: 50%;\n",
              "    cursor: pointer;\n",
              "    display: none;\n",
              "    fill: var(--fill-color);\n",
              "    height: 32px;\n",
              "    padding: 0;\n",
              "    width: 32px;\n",
              "  }\n",
              "\n",
              "  .colab-df-quickchart:hover {\n",
              "    background-color: var(--hover-bg-color);\n",
              "    box-shadow: 0 1px 2px rgba(60, 64, 67, 0.3), 0 1px 3px 1px rgba(60, 64, 67, 0.15);\n",
              "    fill: var(--button-hover-fill-color);\n",
              "  }\n",
              "\n",
              "  .colab-df-quickchart-complete:disabled,\n",
              "  .colab-df-quickchart-complete:disabled:hover {\n",
              "    background-color: var(--disabled-bg-color);\n",
              "    fill: var(--disabled-fill-color);\n",
              "    box-shadow: none;\n",
              "  }\n",
              "\n",
              "  .colab-df-spinner {\n",
              "    border: 2px solid var(--fill-color);\n",
              "    border-color: transparent;\n",
              "    border-bottom-color: var(--fill-color);\n",
              "    animation:\n",
              "      spin 1s steps(1) infinite;\n",
              "  }\n",
              "\n",
              "  @keyframes spin {\n",
              "    0% {\n",
              "      border-color: transparent;\n",
              "      border-bottom-color: var(--fill-color);\n",
              "      border-left-color: var(--fill-color);\n",
              "    }\n",
              "    20% {\n",
              "      border-color: transparent;\n",
              "      border-left-color: var(--fill-color);\n",
              "      border-top-color: var(--fill-color);\n",
              "    }\n",
              "    30% {\n",
              "      border-color: transparent;\n",
              "      border-left-color: var(--fill-color);\n",
              "      border-top-color: var(--fill-color);\n",
              "      border-right-color: var(--fill-color);\n",
              "    }\n",
              "    40% {\n",
              "      border-color: transparent;\n",
              "      border-right-color: var(--fill-color);\n",
              "      border-top-color: var(--fill-color);\n",
              "    }\n",
              "    60% {\n",
              "      border-color: transparent;\n",
              "      border-right-color: var(--fill-color);\n",
              "    }\n",
              "    80% {\n",
              "      border-color: transparent;\n",
              "      border-right-color: var(--fill-color);\n",
              "      border-bottom-color: var(--fill-color);\n",
              "    }\n",
              "    90% {\n",
              "      border-color: transparent;\n",
              "      border-bottom-color: var(--fill-color);\n",
              "    }\n",
              "  }\n",
              "</style>\n",
              "\n",
              "  <script>\n",
              "    async function quickchart(key) {\n",
              "      const quickchartButtonEl =\n",
              "        document.querySelector('#' + key + ' button');\n",
              "      quickchartButtonEl.disabled = true;  // To prevent multiple clicks.\n",
              "      quickchartButtonEl.classList.add('colab-df-spinner');\n",
              "      try {\n",
              "        const charts = await google.colab.kernel.invokeFunction(\n",
              "            'suggestCharts', [key], {});\n",
              "      } catch (error) {\n",
              "        console.error('Error during call to suggestCharts:', error);\n",
              "      }\n",
              "      quickchartButtonEl.classList.remove('colab-df-spinner');\n",
              "      quickchartButtonEl.classList.add('colab-df-quickchart-complete');\n",
              "    }\n",
              "    (() => {\n",
              "      let quickchartButtonEl =\n",
              "        document.querySelector('#df-46b515bb-5862-4925-bb96-95c777d5ee0a button');\n",
              "      quickchartButtonEl.style.display =\n",
              "        google.colab.kernel.accessAllowed ? 'block' : 'none';\n",
              "    })();\n",
              "  </script>\n",
              "</div>\n",
              "\n",
              "    </div>\n",
              "  </div>\n"
            ],
            "application/vnd.google.colaboratory.intrinsic+json": {
              "type": "dataframe",
              "variable_name": "sample_beauty3",
              "summary": "{\n  \"name\": \"sample_beauty3\",\n  \"rows\": 13409,\n  \"fields\": [\n    {\n      \"column\": \"overall\",\n      \"properties\": {\n        \"dtype\": \"number\",\n        \"std\": 0,\n        \"min\": 0,\n        \"max\": 1,\n        \"num_unique_values\": 2,\n        \"samples\": [\n          1,\n          0\n        ],\n        \"semantic_type\": \"\",\n        \"description\": \"\"\n      }\n    },\n    {\n      \"column\": \"reviewText\",\n      \"properties\": {\n        \"dtype\": \"string\",\n        \"num_unique_values\": 13379,\n        \"samples\": [\n          \"I am very pleasantly surprised by this teensy tiny itty bitty pump bottle of light blue gel for the areas surrounding the eyes.  The pump action is smooth,  the gel is light blue and very absorbant, it feels a tad cool when applied,  and most importantly,  has a rather benign fragrance that is not at all disturbing to me.  I doubt that I'll look younger even when this 1/2 ounce container of gel is depleted, but I really like it and am happy that the box contained a best by date.\",\n          \"Japonesque Velvet Touch Foundation is a velvet-like smooth, and soft foundation. It goes on lightly and feels nice and smooth. It is not heavy or greasy. It is a nice thin coverage to make a matte one color tone to the face. It is nice and dry. It's hard to describe, it's not wet and creamy but is velvety as the name states. It does not clog up or gather on the skin, it glides on and makes a nice foundation.\\n\\nI have sensitive skin with rosacea and had no problems using this foundation.\\n\\nI am more than pleased and will make the switch from my usual brand, Bobbi Brown. I rate this 5 stars = I Love It.\"\n        ],\n        \"semantic_type\": \"\",\n        \"description\": \"\"\n      }\n    },\n    {\n      \"column\": \"normalization_revs\",\n      \"properties\": {\n        \"dtype\": \"string\",\n        \"num_unique_values\": 13167,\n        \"samples\": [\n          \"thickening shampoo mean dry scalp hotter guy constantly scratching scalp mmmm hot stuff seem result dry itchy scalp use daily conditioner hair look pretty good even old guy\",\n          \"clean cool cotton little strong prefer clean warm cotton even though warm cotton smell like fabric softener clean say cool cotton capture optimistic feeling sunny day come top note italian bergamot crisp green apple lemon zest heart note mimosa blossom cooling mint fresh cotton accord base note creamy musk peach skin amber droplet smell fruit scent love perfume getting woody musky scent scent moderately strong lingering clean cool cotton nice scent one favorite\"\n        ],\n        \"semantic_type\": \"\",\n        \"description\": \"\"\n      }\n    }\n  ]\n}"
            }
          },
          "metadata": {},
          "execution_count": 3
        }
      ]
    },
    {
      "cell_type": "code",
      "source": [
        "sample_beauty3.shape"
      ],
      "metadata": {
        "colab": {
          "base_uri": "https://localhost:8080/"
        },
        "id": "ROwar4-o0sEU",
        "outputId": "4b2b7001-c904-4647-9c4a-f22703b6ab96"
      },
      "execution_count": 4,
      "outputs": [
        {
          "output_type": "execute_result",
          "data": {
            "text/plain": [
              "(13409, 3)"
            ]
          },
          "metadata": {},
          "execution_count": 4
        }
      ]
    },
    {
      "cell_type": "code",
      "source": [
        "sample_beauty3['overall'].value_counts(ascending=True)"
      ],
      "metadata": {
        "colab": {
          "base_uri": "https://localhost:8080/"
        },
        "id": "_TWsglNi0sAB",
        "outputId": "3929d81d-e054-4921-fdf6-c8d817b27234"
      },
      "execution_count": 5,
      "outputs": [
        {
          "output_type": "execute_result",
          "data": {
            "text/plain": [
              "overall\n",
              "0    6079\n",
              "1    7330\n",
              "Name: count, dtype: int64"
            ]
          },
          "metadata": {},
          "execution_count": 5
        }
      ]
    },
    {
      "cell_type": "code",
      "source": [
        "sample_beauty3.isna().any()"
      ],
      "metadata": {
        "colab": {
          "base_uri": "https://localhost:8080/"
        },
        "id": "QZDrQ0al0r71",
        "outputId": "87bf0cc3-da00-4d73-8d77-b7e407236912"
      },
      "execution_count": 6,
      "outputs": [
        {
          "output_type": "execute_result",
          "data": {
            "text/plain": [
              "overall               False\n",
              "reviewText            False\n",
              "normalization_revs    False\n",
              "dtype: bool"
            ]
          },
          "metadata": {},
          "execution_count": 6
        }
      ]
    },
    {
      "cell_type": "code",
      "source": [
        "sample_beauty3.isnull().sum()"
      ],
      "metadata": {
        "colab": {
          "base_uri": "https://localhost:8080/"
        },
        "id": "zCKDflOZ0r3v",
        "outputId": "195552ac-0e69-4aaa-cffe-8582324bb616"
      },
      "execution_count": 7,
      "outputs": [
        {
          "output_type": "execute_result",
          "data": {
            "text/plain": [
              "overall               0\n",
              "reviewText            0\n",
              "normalization_revs    0\n",
              "dtype: int64"
            ]
          },
          "metadata": {},
          "execution_count": 7
        }
      ]
    },
    {
      "cell_type": "code",
      "source": [
        "# Cambiar el nombre de la columna overall por sentiment\n",
        "sample_beauty3 = sample_beauty3.rename(columns={'overall': 'sentiment'})"
      ],
      "metadata": {
        "id": "eoyO1rlQ0rn5"
      },
      "execution_count": 8,
      "outputs": []
    },
    {
      "cell_type": "code",
      "source": [
        "# Verificar nombre de las columnas\n",
        "print(sample_beauty3.columns)"
      ],
      "metadata": {
        "colab": {
          "base_uri": "https://localhost:8080/"
        },
        "id": "_TN3bo53yAdf",
        "outputId": "6eddeb5a-3689-4ab0-ccb5-b3587f31d529"
      },
      "execution_count": 9,
      "outputs": [
        {
          "output_type": "stream",
          "name": "stdout",
          "text": [
            "Index(['sentiment', 'reviewText', 'normalization_revs'], dtype='object')\n"
          ]
        }
      ]
    },
    {
      "cell_type": "markdown",
      "source": [
        "División de train/test"
      ],
      "metadata": {
        "id": "FLcQ8Nbxp59v"
      }
    },
    {
      "cell_type": "code",
      "source": [
        "from sklearn.model_selection import train_test_split"
      ],
      "metadata": {
        "id": "ZV9KEfx-yqAL"
      },
      "execution_count": 10,
      "outputs": []
    },
    {
      "cell_type": "code",
      "source": [
        "# Crear sets de train y test\n",
        "train, test = train_test_split(sample_beauty3,\n",
        "                               train_size=0.75,\n",
        "                               test_size=0.25,\n",
        "                               stratify=sample_beauty3['sentiment'],\n",
        "                               random_state=42)"
      ],
      "metadata": {
        "id": "D_6oOZSoWhfd"
      },
      "execution_count": 11,
      "outputs": []
    },
    {
      "cell_type": "code",
      "source": [
        "# Guardar los sets creados\n",
        "train.to_csv('/content/drive/MyDrive/data_train')\n",
        "test.to_csv('/content/drive/MyDrive/data_test')\n"
      ],
      "metadata": {
        "id": "poEhl0lJWha8"
      },
      "execution_count": 12,
      "outputs": []
    },
    {
      "cell_type": "code",
      "source": [
        "# Revisar la forma de los sets\n",
        "print(train.shape)\n",
        "print(test.shape)"
      ],
      "metadata": {
        "colab": {
          "base_uri": "https://localhost:8080/"
        },
        "id": "hB4SkHjM2Ldc",
        "outputId": "02bb6076-7aea-4824-d7c9-60e68f9d5471"
      },
      "execution_count": 13,
      "outputs": [
        {
          "output_type": "stream",
          "name": "stdout",
          "text": [
            "(10056, 3)\n",
            "(3353, 3)\n"
          ]
        }
      ]
    },
    {
      "cell_type": "code",
      "source": [
        "print('- Info train -')\n",
        "train.info()\n",
        "\n",
        "print('\\n - - - - - - - - - - - - - - - - - - - - - - - - - - -  -\\n')\n",
        "\n",
        "print('- Info test -')\n",
        "test.info()"
      ],
      "metadata": {
        "colab": {
          "base_uri": "https://localhost:8080/"
        },
        "id": "jw-jXBGCXjJS",
        "outputId": "64bee18c-4858-4017-d10c-1c18b1e72e22"
      },
      "execution_count": 14,
      "outputs": [
        {
          "output_type": "stream",
          "name": "stdout",
          "text": [
            "- Info train -\n",
            "<class 'pandas.core.frame.DataFrame'>\n",
            "Index: 10056 entries, 9037 to 6764\n",
            "Data columns (total 3 columns):\n",
            " #   Column              Non-Null Count  Dtype \n",
            "---  ------              --------------  ----- \n",
            " 0   sentiment           10056 non-null  int64 \n",
            " 1   reviewText          10056 non-null  object\n",
            " 2   normalization_revs  10056 non-null  object\n",
            "dtypes: int64(1), object(2)\n",
            "memory usage: 314.2+ KB\n",
            "\n",
            " - - - - - - - - - - - - - - - - - - - - - - - - - - -  -\n",
            "\n",
            "- Info test -\n",
            "<class 'pandas.core.frame.DataFrame'>\n",
            "Index: 3353 entries, 4836 to 7084\n",
            "Data columns (total 3 columns):\n",
            " #   Column              Non-Null Count  Dtype \n",
            "---  ------              --------------  ----- \n",
            " 0   sentiment           3353 non-null   int64 \n",
            " 1   reviewText          3353 non-null   object\n",
            " 2   normalization_revs  3353 non-null   object\n",
            "dtypes: int64(1), object(2)\n",
            "memory usage: 104.8+ KB\n"
          ]
        }
      ]
    },
    {
      "cell_type": "markdown",
      "source": [
        "### Preparación de datos"
      ],
      "metadata": {
        "id": "bv3gw6Ih1lJf"
      }
    },
    {
      "cell_type": "code",
      "source": [
        "# Extraer los textos normzalizados de train y test\n",
        "norm_train = [text for text in train['normalization_revs']]\n",
        "norm_test = [text for text in test['normalization_revs']]"
      ],
      "metadata": {
        "id": "uUZl--tOQfKR"
      },
      "execution_count": 15,
      "outputs": []
    },
    {
      "cell_type": "code",
      "source": [
        "# Convertir el texto a lista\n",
        "data_train = [str(text).split() for text in norm_train]\n",
        "data_test = [str(text).split() for text in norm_test]\n",
        "len(data_train), len(data_test)"
      ],
      "metadata": {
        "colab": {
          "base_uri": "https://localhost:8080/"
        },
        "id": "pmWEIPtFQnb9",
        "outputId": "09c7b88a-668c-4409-9fc4-a5812609cd20"
      },
      "execution_count": 16,
      "outputs": [
        {
          "output_type": "execute_result",
          "data": {
            "text/plain": [
              "(10056, 3353)"
            ]
          },
          "metadata": {},
          "execution_count": 16
        }
      ]
    },
    {
      "cell_type": "code",
      "source": [
        "# Extraer las etiquetas de la columna sentiment de cada uno de los conjuntos\n",
        "labels_train = [score for score in train['sentiment']]\n",
        "labels_test = [score for score in test['sentiment']]\n",
        "len(labels_train), len(labels_test)"
      ],
      "metadata": {
        "colab": {
          "base_uri": "https://localhost:8080/"
        },
        "id": "WXFBYP0_QnTy",
        "outputId": "205da74a-09f1-4fe5-e159-3d6b95526808"
      },
      "execution_count": 17,
      "outputs": [
        {
          "output_type": "execute_result",
          "data": {
            "text/plain": [
              "(10056, 3353)"
            ]
          },
          "metadata": {},
          "execution_count": 17
        }
      ]
    },
    {
      "cell_type": "code",
      "source": [
        "# Encontrar la longitud máxima de las palabras en ambos sets\n",
        "size_train = max(len(word) for word in data_train )\n",
        "size_test = max(len(word) for word in data_test )\n",
        "size_train, size_test\n"
      ],
      "metadata": {
        "colab": {
          "base_uri": "https://localhost:8080/"
        },
        "id": "9HZ_GSnmUjL4",
        "outputId": "b3fa65df-03f1-4735-dea4-6c6ca754745d"
      },
      "execution_count": 18,
      "outputs": [
        {
          "output_type": "execute_result",
          "data": {
            "text/plain": [
              "(1614, 642)"
            ]
          },
          "metadata": {},
          "execution_count": 18
        }
      ]
    },
    {
      "cell_type": "code",
      "source": [
        "# Extraer las caracteristicas de BOW de los sets\n",
        "\n",
        "def extract_bow(data_train, data_test, text_size=2000):\n",
        "\n",
        "  # Ajustar vectorizer a datos\n",
        "  vectorizer = CountVectorizer(max_features=text_size,\n",
        "                               preprocessor=lambda x: x,\n",
        "                               tokenizer=lambda x: x)\n",
        "\n",
        "  # Ajustar vectorizer a datos de train y convertirlos a matriz\n",
        "  features_train = vectorizer.fit_transform(data_train).toarray()\n",
        "\n",
        "  # Ajustar vectorizer a datos de test y convertirlos a matriz\n",
        "  features_test = vectorizer.transform(data_test).toarray()\n",
        "\n",
        "  # Obtener vocbulario\n",
        "  vocabulary = vectorizer.vocabulary_\n",
        "\n",
        "  return features_train, features_test, vocabulary\n"
      ],
      "metadata": {
        "id": "S9A_Ltyn4_73"
      },
      "execution_count": 19,
      "outputs": []
    },
    {
      "cell_type": "markdown",
      "source": [
        "Revisión de carácteristicas generadas"
      ],
      "metadata": {
        "id": "PROG6L_GS4oU"
      }
    },
    {
      "cell_type": "code",
      "source": [
        "from sklearn.feature_extraction.text import CountVectorizer\n",
        "import random\n",
        "import pickle"
      ],
      "metadata": {
        "id": "VcbW7UD-QEXI"
      },
      "execution_count": 20,
      "outputs": []
    },
    {
      "cell_type": "code",
      "source": [
        "# Extraer caracteristicas BoW para los sets\n",
        "features_train, features_test, vocabulary = extract_bow(data_train,\n",
        "                                                        data_test,\n",
        "                                                        size_test)\n",
        "# Cantidad de palabras únicas\n",
        "print(\"Unique words: {} words\".format(len(vocabulary)))\n",
        "\n",
        "print('\\n - - - - - - - - - - - - - - - - - - - - - - - - - - -  -\\n')\n",
        "\n",
        "\n",
        "# Muestra aleatoria de palabras d\n",
        "print(\"\\n Sample words: {}\".format(random.sample(list(vocabulary.keys()), 10)))\n",
        "print('\\n - - - - - - - - - - - - - - - - - - - - - - - - - - -  -\\n')\n",
        "\n",
        "\n",
        "print('\\nPreprocessed words')\n",
        "print(data_train[5])\n",
        "print('\\n - - - - - - - - - - - - - - - - - - - - - - - - - - -  -\\n')\n",
        "\n",
        "print(\"\\n Sentiment\")\n",
        "print(labels_train[5])\n",
        "print('\\n - - - - - - - - - - - - - - - - - - - - - - - - - - -  -\\n')\n",
        "\n",
        "\n",
        "print('\\n Bag of Words')\n",
        "print(features_train[5])\n",
        "print('\\n - - - - - - - - - - - - - - - - - - - - - - - - - - -  -\\n')\n",
        "\n",
        "# print('\\n vocabulary')\n",
        "# print(len(vocabulary))\n",
        "# print('\\n - - - - - - - - - - - - - - - - - - - - - - - - - - -  -\\n')\n"
      ],
      "metadata": {
        "colab": {
          "base_uri": "https://localhost:8080/"
        },
        "id": "rzfqx-Lo7-Na",
        "outputId": "460e1293-441c-4778-d89f-a7a4ab298219"
      },
      "execution_count": 21,
      "outputs": [
        {
          "output_type": "stream",
          "name": "stderr",
          "text": [
            "/usr/local/lib/python3.10/dist-packages/sklearn/feature_extraction/text.py:528: UserWarning: The parameter 'token_pattern' will not be used since 'tokenizer' is not None'\n",
            "  warnings.warn(\n"
          ]
        },
        {
          "output_type": "stream",
          "name": "stdout",
          "text": [
            "Unique words: 642 words\n",
            "\n",
            " - - - - - - - - - - - - - - - - - - - - - - - - - - -  -\n",
            "\n",
            "\n",
            " Sample words: ['add', 'though', 'along', 'two', 'also', 'irritate', 'orange', 'home', 'maybe', 'effect']\n",
            "\n",
            " - - - - - - - - - - - - - - - - - - - - - - - - - - -  -\n",
            "\n",
            "\n",
            "Preprocessed words\n",
            "['like', 'many', 'gotten', 'contouring', 'highlighting', 'trend', 'date', 'using', 'regular', 'blush', 'brush', 'faced', 'cocoa', 'contour', 'palette', 'economical', 'choice', 'since', 'obviously', 'already', 'owned', 'brush', 'use', 'blush', 'setting', 'powder', 'precise', 'application', 'would', 'like', 'accordingly', 'curious', 'try', 'brush', 'since', 'specifically', 'made', 'purpose', 'really', 'enjoying', 'slightly', 'tapered', 'design', 'perfect', 'depositing', 'highlighter', 'bronzer', 'exactly', 'want', 'happier', 'definition', 'brush', 'helped', 'create', 'face', 'also', 'like', 'feel', 'face', 'seems', 'equally', 'soft', 'sephora', 'pro', 'brush', 'regularly', 'using', 'year', 'even', 'affordable', 'price', 'brush', 'still', 'new', 'curious', 'see', 'hold', 'lot', 'use', 'cleaning', 'far', 'satisfied']\n",
            "\n",
            " - - - - - - - - - - - - - - - - - - - - - - - - - - -  -\n",
            "\n",
            "\n",
            " Sentiment\n",
            "1\n",
            "\n",
            " - - - - - - - - - - - - - - - - - - - - - - - - - - -  -\n",
            "\n",
            "\n",
            " Bag of Words\n",
            "[0 0 0 0 0 0 0 0 0 0 0 0 0 0 1 1 0 0 0 0 0 0 0 0 0 0 0 1 0 0 0 0 0 0 0 0 0\n",
            " 0 0 0 0 0 0 0 0 0 0 0 0 0 0 0 0 0 2 0 0 0 0 0 0 0 0 0 6 0 0 0 0 0 0 0 0 0\n",
            " 0 0 0 0 0 0 0 0 0 0 0 0 0 0 0 0 0 0 0 0 0 0 0 0 0 0 0 0 0 0 0 0 0 0 0 0 0\n",
            " 0 0 0 0 0 0 0 0 0 0 0 0 0 0 0 0 0 0 0 0 0 0 0 0 0 0 0 0 0 0 0 0 0 0 0 0 0\n",
            " 0 0 0 0 0 0 0 0 0 0 0 0 1 0 0 0 0 0 0 1 0 0 0 0 0 0 0 0 0 0 2 0 0 0 0 0 0\n",
            " 1 0 0 1 0 0 0 0 0 0 0 0 0 0 0 0 0 0 0 0 0 0 0 0 0 0 0 0 0 0 0 0 0 0 0 0 0\n",
            " 0 0 0 0 0 0 0 0 0 0 0 0 0 0 0 0 0 0 0 0 0 0 1 0 0 0 0 0 0 0 0 0 0 0 0 0 0\n",
            " 0 0 0 0 0 0 0 0 0 0 0 0 0 0 0 0 0 0 0 0 0 0 0 0 0 0 0 0 0 0 0 0 0 0 0 0 0\n",
            " 0 0 3 0 0 0 0 0 0 0 0 0 0 0 0 1 0 0 0 0 1 0 0 0 1 0 0 0 0 0 0 0 0 0 0 0 0\n",
            " 0 0 0 0 0 0 0 0 0 0 0 0 0 0 0 0 0 0 0 0 1 0 0 0 0 0 0 0 0 0 0 0 0 0 0 0 0\n",
            " 0 0 0 0 0 0 0 0 0 0 0 0 0 0 0 0 0 0 0 0 0 0 0 0 0 0 0 1 0 0 0 0 0 0 0 0 0\n",
            " 0 0 0 0 0 0 0 0 1 0 0 0 1 0 0 0 0 0 0 0 0 0 0 0 0 0 0 0 0 0 0 0 0 0 0 0 1\n",
            " 0 0 0 0 0 0 0 1 0 0 0 0 0 0 0 0 0 0 0 0 0 0 0 0 0 0 0 0 0 0 0 1 0 0 1 0 0\n",
            " 0 0 0 1 0 0 0 0 0 0 0 0 0 0 0 0 0 0 0 0 0 0 2 0 0 0 0 0 1 0 0 0 0 0 0 0 0\n",
            " 1 0 0 0 0 0 0 0 0 0 0 0 0 0 0 0 0 0 0 0 1 0 0 0 0 0 0 0 0 0 0 0 0 0 0 0 0\n",
            " 0 0 0 0 0 0 0 0 0 0 0 0 0 0 0 0 0 0 0 0 0 0 0 0 0 0 0 0 0 0 0 0 0 0 0 1 0\n",
            " 0 0 0 0 0 0 0 0 0 2 0 2 0 0 0 0 1 0 0 0 0 0 0 0 0 0 0 0 0 0 0 0 0 0 0 0 0\n",
            " 0 0 0 0 0 0 1 0 1 0 0 0 0]\n",
            "\n",
            " - - - - - - - - - - - - - - - - - - - - - - - - - - -  -\n",
            "\n"
          ]
        }
      ]
    },
    {
      "cell_type": "markdown",
      "source": [
        "Guardar y cargar modelo"
      ],
      "metadata": {
        "id": "8hkSPGgtUyV-"
      }
    },
    {
      "cell_type": "code",
      "source": [
        "def save_pkl(model_name, model):\n",
        "  with open(model_name, 'wb') as files:\n",
        "    pickle.dump(model, files)"
      ],
      "metadata": {
        "id": "S6A-FVrMpgaN"
      },
      "execution_count": 22,
      "outputs": []
    },
    {
      "cell_type": "code",
      "source": [
        "def load_pkl(model_name):\n",
        "  # load saved model\n",
        "  with open(model_name , 'rb') as f:\n",
        "      lr = pickle.load(f)\n",
        "  return lr\n",
        ""
      ],
      "metadata": {
        "id": "Cg0ikNylpgWX"
      },
      "execution_count": 23,
      "outputs": []
    },
    {
      "cell_type": "code",
      "source": [
        "preprocessed_data = dict(data_train=data_train, data_test=data_test,\n",
        "                              labels_train=labels_train, labels_test=labels_test)\n",
        "preprocessed_data.keys()"
      ],
      "metadata": {
        "colab": {
          "base_uri": "https://localhost:8080/"
        },
        "id": "o3Ba0hpgpgSI",
        "outputId": "21bded4c-36d9-4d1f-9711-58ffb9907037"
      },
      "execution_count": 24,
      "outputs": [
        {
          "output_type": "execute_result",
          "data": {
            "text/plain": [
              "dict_keys(['data_train', 'data_test', 'labels_train', 'labels_test'])"
            ]
          },
          "metadata": {},
          "execution_count": 24
        }
      ]
    },
    {
      "cell_type": "code",
      "source": [
        "save_pkl('preprocessed_data.pkl', preprocessed_data)\n",
        ""
      ],
      "metadata": {
        "id": "vYBpcVvWpgNq"
      },
      "execution_count": 25,
      "outputs": []
    },
    {
      "cell_type": "code",
      "source": [
        "!cp preprocessed_data.pkl /content/drive/MyDrive/preprocessed_data.pkl"
      ],
      "metadata": {
        "id": "ryTIMogVpgJm"
      },
      "execution_count": 26,
      "outputs": []
    },
    {
      "cell_type": "code",
      "source": [
        "# obtenes la data guardada\n",
        "preprocessed_data = load_pkl('/content/drive/MyDrive/preprocessed_data.pkl')\n",
        "preprocessed_data.keys()"
      ],
      "metadata": {
        "colab": {
          "base_uri": "https://localhost:8080/"
        },
        "id": "s_YpLRvApgFw",
        "outputId": "2377a8bb-6ec7-4c1c-e121-7ca670a76408"
      },
      "execution_count": 27,
      "outputs": [
        {
          "output_type": "execute_result",
          "data": {
            "text/plain": [
              "dict_keys(['data_train', 'data_test', 'labels_train', 'labels_test'])"
            ]
          },
          "metadata": {},
          "execution_count": 27
        }
      ]
    },
    {
      "cell_type": "code",
      "source": [
        "# Ahora guardamos las features de BoW\n",
        "bow_features = dict(features_train=features_train, features_test=features_test,\n",
        "                             vocabulary=vocabulary)\n",
        "bow_features.keys()"
      ],
      "metadata": {
        "colab": {
          "base_uri": "https://localhost:8080/"
        },
        "id": "ENArqkSNpf86",
        "outputId": "75fd3010-a95a-4349-8a29-44355ae1b894"
      },
      "execution_count": 28,
      "outputs": [
        {
          "output_type": "execute_result",
          "data": {
            "text/plain": [
              "dict_keys(['features_train', 'features_test', 'vocabulary'])"
            ]
          },
          "metadata": {},
          "execution_count": 28
        }
      ]
    },
    {
      "cell_type": "code",
      "source": [
        "save_pkl('bow_features.pkl', bow_features)"
      ],
      "metadata": {
        "id": "mspbk4Sfpf44"
      },
      "execution_count": 29,
      "outputs": []
    },
    {
      "cell_type": "code",
      "source": [
        "!cp bow_features.pkl /content/drive/MyDrive/bow_features.pkl"
      ],
      "metadata": {
        "id": "2rYvyzmDpxTB"
      },
      "execution_count": 30,
      "outputs": []
    },
    {
      "cell_type": "code",
      "source": [
        "# obtenes la data guardada\n",
        "bow_features = load_pkl('/content/drive/MyDrive/bow_features.pkl')\n",
        "bow_features.keys()"
      ],
      "metadata": {
        "colab": {
          "base_uri": "https://localhost:8080/"
        },
        "id": "kB75tapWpxQJ",
        "outputId": "8a711435-e124-4d82-a748-fb9592e1260a"
      },
      "execution_count": 31,
      "outputs": [
        {
          "output_type": "execute_result",
          "data": {
            "text/plain": [
              "dict_keys(['features_train', 'features_test', 'vocabulary'])"
            ]
          },
          "metadata": {},
          "execution_count": 31
        }
      ]
    },
    {
      "cell_type": "code",
      "source": [
        "import tensorflow as tf\n",
        "# import sklearn.preprocessing as pr\n",
        "# from tensorflow.keras.utils import pad_sequences\n",
        "import numpy as np"
      ],
      "metadata": {
        "id": "ZhAKf4JPiRQ3"
      },
      "execution_count": 32,
      "outputs": []
    },
    {
      "cell_type": "markdown",
      "source": [
        "# Random Forest"
      ],
      "metadata": {
        "id": "XZMdsTB7rz7U"
      }
    },
    {
      "cell_type": "markdown",
      "source": [
        "Entrenamiento y test"
      ],
      "metadata": {
        "id": "38qs0uoGirNw"
      }
    },
    {
      "cell_type": "code",
      "source": [
        "from sklearn.ensemble import RandomForestClassifier\n",
        "from sklearn.model_selection import GridSearchCV\n",
        "import numpy as np\n",
        "import pickle"
      ],
      "metadata": {
        "id": "CbkMwU85ozTt"
      },
      "execution_count": 33,
      "outputs": []
    },
    {
      "cell_type": "code",
      "source": [
        "# creamos variables standard\n",
        "X_train = features_train\n",
        "y_train = labels_train\n",
        "\n",
        "X_test = features_test\n",
        "y_test = labels_test"
      ],
      "metadata": {
        "id": "OLeYk5ESvc6c"
      },
      "execution_count": 34,
      "outputs": []
    },
    {
      "cell_type": "code",
      "source": [
        "# modelo a entrenar\n",
        "model1 = RandomForestClassifier()\n",
        "\n",
        "# Elegimos algunos hiperparámetros para buscar el óptimo\n",
        "params = {\"n_estimators\": range(50, 100, 500),\n",
        "           \"min_samples_split\": range(2, 5, 10)}\n",
        "\n",
        "\n",
        "# Entrenamos usando grid_search para encontrar los hiperparámetros óptimos\n",
        "grid_search = GridSearchCV(model1, params)\n",
        "grid_search.fit(X_train, y_train)\n",
        "\n",
        "print(\"El 'n_estimators' optimo es:\", grid_search.best_params_[\"n_estimators\"])\n",
        "print(\"El 'min_samples_split' optimo es:\", grid_search.best_params_[\"min_samples_split\"])"
      ],
      "metadata": {
        "colab": {
          "base_uri": "https://localhost:8080/"
        },
        "id": "N-Zd_okqiR6A",
        "outputId": "dee858f4-e094-429a-e2e3-15bc7451cfca"
      },
      "execution_count": 71,
      "outputs": [
        {
          "output_type": "stream",
          "name": "stdout",
          "text": [
            "El 'n_estimators' optimo es: 50\n",
            "El 'min_samples_split' optimo es: 2\n"
          ]
        }
      ]
    },
    {
      "cell_type": "code",
      "source": [
        "# Configuramos el modelo con los hiperparámetros óptimos\n",
        "model1 = RandomForestClassifier(n_estimators=grid_search.best_params_[\"n_estimators\"],\n",
        "                                min_samples_split=grid_search.best_params_[\"min_samples_split\"],\n",
        "                                )\n",
        "\n",
        "# Entrenamos el modelo\n",
        "model1.fit(X_train, y_train)"
      ],
      "metadata": {
        "colab": {
          "base_uri": "https://localhost:8080/",
          "height": 75
        },
        "id": "Dd7svHpRiR29",
        "outputId": "304c65e1-ec4d-432a-e7f1-12acb5c74974"
      },
      "execution_count": 72,
      "outputs": [
        {
          "output_type": "execute_result",
          "data": {
            "text/plain": [
              "RandomForestClassifier(n_estimators=50)"
            ],
            "text/html": [
              "<style>#sk-container-id-2 {color: black;background-color: white;}#sk-container-id-2 pre{padding: 0;}#sk-container-id-2 div.sk-toggleable {background-color: white;}#sk-container-id-2 label.sk-toggleable__label {cursor: pointer;display: block;width: 100%;margin-bottom: 0;padding: 0.3em;box-sizing: border-box;text-align: center;}#sk-container-id-2 label.sk-toggleable__label-arrow:before {content: \"▸\";float: left;margin-right: 0.25em;color: #696969;}#sk-container-id-2 label.sk-toggleable__label-arrow:hover:before {color: black;}#sk-container-id-2 div.sk-estimator:hover label.sk-toggleable__label-arrow:before {color: black;}#sk-container-id-2 div.sk-toggleable__content {max-height: 0;max-width: 0;overflow: hidden;text-align: left;background-color: #f0f8ff;}#sk-container-id-2 div.sk-toggleable__content pre {margin: 0.2em;color: black;border-radius: 0.25em;background-color: #f0f8ff;}#sk-container-id-2 input.sk-toggleable__control:checked~div.sk-toggleable__content {max-height: 200px;max-width: 100%;overflow: auto;}#sk-container-id-2 input.sk-toggleable__control:checked~label.sk-toggleable__label-arrow:before {content: \"▾\";}#sk-container-id-2 div.sk-estimator input.sk-toggleable__control:checked~label.sk-toggleable__label {background-color: #d4ebff;}#sk-container-id-2 div.sk-label input.sk-toggleable__control:checked~label.sk-toggleable__label {background-color: #d4ebff;}#sk-container-id-2 input.sk-hidden--visually {border: 0;clip: rect(1px 1px 1px 1px);clip: rect(1px, 1px, 1px, 1px);height: 1px;margin: -1px;overflow: hidden;padding: 0;position: absolute;width: 1px;}#sk-container-id-2 div.sk-estimator {font-family: monospace;background-color: #f0f8ff;border: 1px dotted black;border-radius: 0.25em;box-sizing: border-box;margin-bottom: 0.5em;}#sk-container-id-2 div.sk-estimator:hover {background-color: #d4ebff;}#sk-container-id-2 div.sk-parallel-item::after {content: \"\";width: 100%;border-bottom: 1px solid gray;flex-grow: 1;}#sk-container-id-2 div.sk-label:hover label.sk-toggleable__label {background-color: #d4ebff;}#sk-container-id-2 div.sk-serial::before {content: \"\";position: absolute;border-left: 1px solid gray;box-sizing: border-box;top: 0;bottom: 0;left: 50%;z-index: 0;}#sk-container-id-2 div.sk-serial {display: flex;flex-direction: column;align-items: center;background-color: white;padding-right: 0.2em;padding-left: 0.2em;position: relative;}#sk-container-id-2 div.sk-item {position: relative;z-index: 1;}#sk-container-id-2 div.sk-parallel {display: flex;align-items: stretch;justify-content: center;background-color: white;position: relative;}#sk-container-id-2 div.sk-item::before, #sk-container-id-2 div.sk-parallel-item::before {content: \"\";position: absolute;border-left: 1px solid gray;box-sizing: border-box;top: 0;bottom: 0;left: 50%;z-index: -1;}#sk-container-id-2 div.sk-parallel-item {display: flex;flex-direction: column;z-index: 1;position: relative;background-color: white;}#sk-container-id-2 div.sk-parallel-item:first-child::after {align-self: flex-end;width: 50%;}#sk-container-id-2 div.sk-parallel-item:last-child::after {align-self: flex-start;width: 50%;}#sk-container-id-2 div.sk-parallel-item:only-child::after {width: 0;}#sk-container-id-2 div.sk-dashed-wrapped {border: 1px dashed gray;margin: 0 0.4em 0.5em 0.4em;box-sizing: border-box;padding-bottom: 0.4em;background-color: white;}#sk-container-id-2 div.sk-label label {font-family: monospace;font-weight: bold;display: inline-block;line-height: 1.2em;}#sk-container-id-2 div.sk-label-container {text-align: center;}#sk-container-id-2 div.sk-container {/* jupyter's `normalize.less` sets `[hidden] { display: none; }` but bootstrap.min.css set `[hidden] { display: none !important; }` so we also need the `!important` here to be able to override the default hidden behavior on the sphinx rendered scikit-learn.org. See: https://github.com/scikit-learn/scikit-learn/issues/21755 */display: inline-block !important;position: relative;}#sk-container-id-2 div.sk-text-repr-fallback {display: none;}</style><div id=\"sk-container-id-2\" class=\"sk-top-container\"><div class=\"sk-text-repr-fallback\"><pre>RandomForestClassifier(n_estimators=50)</pre><b>In a Jupyter environment, please rerun this cell to show the HTML representation or trust the notebook. <br />On GitHub, the HTML representation is unable to render, please try loading this page with nbviewer.org.</b></div><div class=\"sk-container\" hidden><div class=\"sk-item\"><div class=\"sk-estimator sk-toggleable\"><input class=\"sk-toggleable__control sk-hidden--visually\" id=\"sk-estimator-id-2\" type=\"checkbox\" checked><label for=\"sk-estimator-id-2\" class=\"sk-toggleable__label sk-toggleable__label-arrow\">RandomForestClassifier</label><div class=\"sk-toggleable__content\"><pre>RandomForestClassifier(n_estimators=50)</pre></div></div></div></div></div>"
            ]
          },
          "metadata": {},
          "execution_count": 72
        }
      ]
    },
    {
      "cell_type": "markdown",
      "source": [
        "Resultados train"
      ],
      "metadata": {
        "id": "DG3rgsLdn5nF"
      }
    },
    {
      "cell_type": "code",
      "source": [
        "train_predicted = model1.predict(X_train)\n",
        "accuracy_train = np.mean(train_predicted == y_train)\n",
        "baseline_accuracy_train = np.mean(0 == y_train)\n",
        "if(baseline_accuracy_train != 0):\n",
        "  accuracy_lift_train = 100 * (accuracy_train/baseline_accuracy_train - 1)\n",
        "else:\n",
        "  accuracy_lift_train = 0\n",
        "\n",
        "print(\"Resultados en train con Random Forest:\\n\")\n",
        "print(\"Baseline accuracy:\", round(baseline_accuracy_train, 2))\n",
        "print(\"accuracy:\", round(accuracy_train, 2))\n",
        "print(\"accuracy lift:\", round(accuracy_lift_train), \"%\")"
      ],
      "metadata": {
        "colab": {
          "base_uri": "https://localhost:8080/"
        },
        "id": "spEq9MZ1n44A",
        "outputId": "970d248b-da46-4dd1-9218-ad61cb770fee"
      },
      "execution_count": 73,
      "outputs": [
        {
          "output_type": "stream",
          "name": "stdout",
          "text": [
            "Resultados en train con Random Forest:\n",
            "\n",
            "Baseline accuracy: 0.0\n",
            "accuracy: 0.99\n",
            "accuracy lift: 0 %\n"
          ]
        }
      ]
    },
    {
      "cell_type": "markdown",
      "source": [
        "Resultados de TEST"
      ],
      "metadata": {
        "id": "87HGlYudn9_d"
      }
    },
    {
      "cell_type": "code",
      "source": [
        "test_predicted = model1.predict(X_test)\n",
        "accuracy_test = np.mean(test_predicted == y_test)\n",
        "baseline_accuracy_test = np.mean(0 == y_test)\n",
        "if(baseline_accuracy_train != 0):\n",
        "  accuracy_lift = 100 * (accuracy_test/baseline_accuracy_test - 1)\n",
        "else:\n",
        "  accuracy_lift = 0\n",
        "\n",
        "print(\"Resultados en TEST utilizando Random Forest:\\n\")\n",
        "print(\"Baseline accuracy:\", round(baseline_accuracy_test, 2))\n",
        "print(\"accuracy:\", round(accuracy_test, 2))\n",
        "print(\"accuracy lift:\", round(accuracy_lift), \"%\")"
      ],
      "metadata": {
        "colab": {
          "base_uri": "https://localhost:8080/"
        },
        "id": "Uetf6lvPnCkT",
        "outputId": "493ef9bf-ad35-4a4d-bf08-b06ba3552650"
      },
      "execution_count": 74,
      "outputs": [
        {
          "output_type": "stream",
          "name": "stdout",
          "text": [
            "Resultados en TEST utilizando Random Forest:\n",
            "-------------------------\n",
            "Baseline accuracy: 0.0\n",
            "accuracy: 0.72\n",
            "accuracy lift: 0 %\n"
          ]
        }
      ]
    },
    {
      "cell_type": "markdown",
      "source": [
        "Guardar datos de Train"
      ],
      "metadata": {
        "id": "XRpR4mwu-dyU"
      }
    },
    {
      "cell_type": "code",
      "source": [
        "# Guardar modelos\n",
        "def save_pkl(model_name, model):\n",
        "    with open(model_name, 'wb') as files:\n",
        "        pickle.dump(model, files)"
      ],
      "metadata": {
        "id": "oPHIjkkpImW1"
      },
      "execution_count": 75,
      "outputs": []
    },
    {
      "cell_type": "code",
      "source": [
        "# cargar modelos\n",
        "def load_pkl(model_name):\n",
        "    with open(model_name, 'rb') as f:\n",
        "        return pickle.load(f)"
      ],
      "metadata": {
        "id": "gJaUt-yVI33U"
      },
      "execution_count": 76,
      "outputs": []
    },
    {
      "cell_type": "code",
      "source": [
        "# Guardar el modelo\n",
        "save_pkl('model_random_forest.pkl', model1)"
      ],
      "metadata": {
        "id": "VVUXrhUOJMCs"
      },
      "execution_count": 77,
      "outputs": []
    },
    {
      "cell_type": "code",
      "source": [
        "# Copiar a Google Drive\n",
        "!cp model_random_forest.pkl /content/drive/MyDrive/m1_random_forest.pkl\n"
      ],
      "metadata": {
        "id": "0vmrfg_HJL1H"
      },
      "execution_count": 78,
      "outputs": []
    },
    {
      "cell_type": "code",
      "source": [
        "# Cargar el modelo desde Google Drive\n",
        "model1 = load_pkl('/content/drive/MyDrive/m1_random_forest.pkl')\n",
        "print(model1)"
      ],
      "metadata": {
        "colab": {
          "base_uri": "https://localhost:8080/"
        },
        "id": "QOIBO1l4JLxC",
        "outputId": "074e19c8-c091-400f-99d9-dfbdb487e537"
      },
      "execution_count": 79,
      "outputs": [
        {
          "output_type": "stream",
          "name": "stdout",
          "text": [
            "RandomForestClassifier(n_estimators=50)\n"
          ]
        }
      ]
    },
    {
      "cell_type": "code",
      "source": [
        "model_features = dict(X_train=X_train,\n",
        "                      y_train=y_train,\n",
        "                      X_test=X_test,\n",
        "                      y_test=y_test)\n",
        "model_features.keys()\n",
        "\n",
        "\n",
        "save_pkl('model_features.pkl', model_features)\n",
        "\n",
        "\n",
        "!cp model_features.pkl /content/drive/MyDrive/model_features.pkl"
      ],
      "metadata": {
        "id": "f78xE0nH--Gw"
      },
      "execution_count": 80,
      "outputs": []
    },
    {
      "cell_type": "code",
      "source": [
        "model_features = load_pkl('/content/drive/MyDrive/model_features.pkl')\n",
        "model_features.keys()"
      ],
      "metadata": {
        "colab": {
          "base_uri": "https://localhost:8080/"
        },
        "id": "Pvc0K_el_E-4",
        "outputId": "89a36bf2-d638-48a9-8b9f-fb3b21d0eafc"
      },
      "execution_count": 81,
      "outputs": [
        {
          "output_type": "execute_result",
          "data": {
            "text/plain": [
              "dict_keys(['X_train', 'y_train', 'X_test', 'y_test'])"
            ]
          },
          "metadata": {},
          "execution_count": 81
        }
      ]
    },
    {
      "cell_type": "markdown",
      "source": [
        "### Matriz de confusión"
      ],
      "metadata": {
        "id": "rO321WNBoFUC"
      }
    },
    {
      "cell_type": "code",
      "source": [
        "import matplotlib.pyplot as plt\n",
        "import seaborn as sns\n",
        "from sklearn.datasets import make_classification\n",
        "from sklearn.metrics import confusion_matrix,  classification_report"
      ],
      "metadata": {
        "id": "iLf9OvuGmFyl"
      },
      "execution_count": 82,
      "outputs": []
    },
    {
      "cell_type": "code",
      "source": [
        "# Generar predicciones binarias\n",
        "y_pred_bin = (model1.predict(X_test) >= 0.5).astype(\"int32\")\n",
        "\n",
        "def make_confusion_matrix(train_predicted, test_predicted, figsize=(8, 6)):\n",
        "    cm = confusion_matrix(train_predicted, test_predicted)\n",
        "    plt.figure(figsize=(8, 6))\n",
        "    sns.heatmap(cm, annot=True, fmt='d', cmap='magma', cbar=False, xticklabels=[\"Negativo\", \"Positivo\"], yticklabels=[\"Negativo\", \"Positivo\"])\n",
        "    plt.xlabel('Etiqueta Predicha')\n",
        "    plt.ylabel('Etiqueta Real')\n",
        "    plt.title('Matriz de Confusión')\n",
        "    plt.show()\n",
        "\n",
        "    # Mostrar la matriz de confusión\n",
        "make_confusion_matrix(y_test, y_pred_bin)\n"
      ],
      "metadata": {
        "colab": {
          "base_uri": "https://localhost:8080/",
          "height": 564
        },
        "id": "2SuXHduHgFf-",
        "outputId": "b6a1d3de-82c5-43d2-e2c8-6ee752c3d791"
      },
      "execution_count": 83,
      "outputs": [
        {
          "output_type": "display_data",
          "data": {
            "text/plain": [
              "<Figure size 800x600 with 1 Axes>"
            ],
            "image/png": "[encoded data removed]"
          },
          "metadata": {}
        }
      ]
    },
    {
      "cell_type": "code",
      "source": [
        "print('\\nClassification report:\\n{}'.format(classification_report(y_test, test_predicted)))"
      ],
      "metadata": {
        "colab": {
          "base_uri": "https://localhost:8080/"
        },
        "id": "dQeZ5t-aD-ZW",
        "outputId": "8dca972a-0ddd-4018-d78f-c7680129a757"
      },
      "execution_count": 48,
      "outputs": [
        {
          "output_type": "stream",
          "name": "stdout",
          "text": [
            "\n",
            "Classification report:\n",
            "              precision    recall  f1-score   support\n",
            "\n",
            "           0       0.67      0.72      0.69      1520\n",
            "           1       0.75      0.71      0.73      1833\n",
            "\n",
            "    accuracy                           0.71      3353\n",
            "   macro avg       0.71      0.71      0.71      3353\n",
            "weighted avg       0.72      0.71      0.72      3353\n",
            "\n"
          ]
        }
      ]
    },
    {
      "cell_type": "markdown",
      "source": [
        "**True Negatives (N,N) -> 1140**  \n",
        "Hay 1140 instancias donde el modelo predijo la clase 0 correctamente cuando la clase real también era 0.\n",
        "\n",
        "**False Positives(N,P)-> 380**  \n",
        "Hay 380 instancias donde el modelo predijo la clase 1 incorrectamente cuando la clase real era 0.\n",
        "\n",
        "**False Negatives (P,N)->544**  \n",
        "Hay 544 instancias donde el modelo predijo la clase 0 incorrectamente cuando la clase real era 1.\n",
        "\n",
        "**True Positives (P,P) -> 1289**  \n",
        "Hay 1289 instancias donde el modelo predijo la clase 1 correctamente cuando la clase real también era 1.\n"
      ],
      "metadata": {
        "id": "qai2fDfZocBW"
      }
    },
    {
      "cell_type": "markdown",
      "source": [
        "*Precision*  \n",
        "**0.68** >> el 68% de las veces que el modelo predice la clase 0, está en lo correcto.  \n",
        "**0.77** >> significa que el 77% de las veces que el modelo predice la clase 1, está en lo correcto.\n",
        "\n",
        "*Recall*  \n",
        " **0.75** >> el modelo captura el 75% de todos los verdaderos ejemplos de la clase 0.  \n",
        "**0.70** >> el modelo captura el 70% de todos los verdaderos ejemplos de la clase 1.\n",
        "\n",
        "*F1-Score*  \n",
        "** 0.71 y 0.74 ** balance entre precisión y exhaustividad.\n",
        "\n",
        "*Support*  \n",
        "\n",
        "1520 ejemplos reales de la clase 0.  \n",
        "1833 ejemplos reales de la clase 1."
      ],
      "metadata": {
        "id": "NOnMitbpAqRC"
      }
    },
    {
      "cell_type": "markdown",
      "source": [
        "*Comentarios*  \n",
        "Todavía se pueden hacer ajuster para mejorar se puede:\n",
        "\n",
        "*   Ajustar los pesos de las clases o equilibrando los datos.\n",
        "*   Realizar ajustes en hiperparámetros\n",
        "*   Aumentar el conjunto de datos de entrenamiento\n",
        "\n",
        "El modelo está \"equilibrado\" con oportunidad a mejorar"
      ],
      "metadata": {
        "id": "8sUINoNeL9hJ"
      }
    },
    {
      "cell_type": "markdown",
      "source": [
        "## Deep Learning"
      ],
      "metadata": {
        "id": "gSf-fJrysyF9"
      }
    },
    {
      "cell_type": "code",
      "source": [
        "import numpy as np\n",
        "from keras.preprocessing import sequence\n",
        "from keras.models import Sequential\n",
        "from keras.layers import Embedding, LSTM, Dense\n",
        "from sklearn.preprocessing import LabelEncoder\n",
        "\n",
        "\n",
        "# Configurar parámetros\n",
        "max_words = 500\n",
        "vocabulary_size = 5000\n",
        "embedding_size = 32\n",
        "\n",
        "# Preprocesar las secuencias\n",
        "X_train_lstm = sequence.pad_sequences(X_train, maxlen=max_words)\n",
        "X_test_lstm = sequence.pad_sequences(X_test, maxlen=max_words)\n",
        "\n",
        "# Inicializar el modelo secuencial\n",
        "model = Sequential()\n",
        "model.add(Embedding(vocabulary_size, embedding_size))\n",
        "model.add(LSTM(100))\n",
        "model.add(Dense(1, activation='sigmoid'))\n",
        "\n",
        "# Compilar el modelo\n",
        "model.compile(loss='binary_crossentropy', optimizer='adam', metrics=['accuracy'])\n",
        "\n",
        "# Convertir las etiquetas de destino a valores numéricos\n",
        "label_encoder = LabelEncoder()\n",
        "y_train_encoded = label_encoder.fit_transform(y_train)\n",
        "\n",
        "# Dividir el conjunto de entrenamiento para obtener datos de validación\n",
        "X_train2, X_valid, y_train2, y_valid = train_test_split(X_train_lstm, y_train_encoded, test_size=0.1, random_state=42)\n",
        "\n",
        "# Entrenar el modelo\n",
        "batch_size = 64\n",
        "num_epochs = 1\n",
        "model.fit(X_train2, y_train2,\n",
        "          validation_data=(X_valid, y_valid),\n",
        "          batch_size=batch_size, epochs=num_epochs)\n",
        "\n",
        "# Predecir etiquetas para el conjunto de prueba\n",
        "y_test_prob = model.predict(X_test_lstm)\n",
        "\n",
        "# Convertir probabilidades a etiquetas binarias\n",
        "y_test_pred = (y_test_prob >= 0.5).astype(int).flatten()\n",
        "\n",
        "# Convertir etiquetas reales a formato binario\n",
        "y_test_encoded = label_encoder.transform(y_test)\n",
        "\n",
        "print(model.summary())\n"
      ],
      "metadata": {
        "colab": {
          "base_uri": "https://localhost:8080/"
        },
        "id": "vEO_TC2Ys2Gg",
        "outputId": "3d133845-2bbf-416c-be84-e0837c3d8066"
      },
      "execution_count": 46,
      "outputs": [
        {
          "output_type": "stream",
          "name": "stdout",
          "text": [
            "142/142 [==============================] - 127s 873ms/step - loss: 0.6889 - accuracy: 0.5482 - val_loss: 0.6901 - val_accuracy: 0.5298\n",
            "105/105 [==============================] - 14s 128ms/step\n",
            "Model: \"sequential_5\"\n",
            "_________________________________________________________________\n",
            " Layer (type)                Output Shape              Param #   \n",
            "=================================================================\n",
            " embedding_5 (Embedding)     (None, None, 32)          160000    \n",
            "                                                                 \n",
            " lstm_5 (LSTM)               (None, 100)               53200     \n",
            "                                                                 \n",
            " dense_5 (Dense)             (None, 1)                 101       \n",
            "                                                                 \n",
            "=================================================================\n",
            "Total params: 213301 (833.21 KB)\n",
            "Trainable params: 213301 (833.21 KB)\n",
            "Non-trainable params: 0 (0.00 Byte)\n",
            "_________________________________________________________________\n",
            "None\n"
          ]
        }
      ]
    },
    {
      "cell_type": "code",
      "source": [
        "# Generar y mostrar el informe de clasificación\n",
        "print('\\nClassification report:\\n')\n",
        "print(classification_report(y_test_encoded, y_test_pred))"
      ],
      "metadata": {
        "colab": {
          "base_uri": "https://localhost:8080/"
        },
        "id": "Frx1mstWs2DS",
        "outputId": "4db2f00e-ba46-417b-955f-ced3ae6a100d"
      },
      "execution_count": 47,
      "outputs": [
        {
          "output_type": "stream",
          "name": "stdout",
          "text": [
            "\n",
            "Classification report:\n",
            "\n",
            "              precision    recall  f1-score   support\n",
            "\n",
            "           0       0.60      0.02      0.03      1520\n",
            "           1       0.55      0.99      0.71      1833\n",
            "\n",
            "    accuracy                           0.55      3353\n",
            "   macro avg       0.57      0.50      0.37      3353\n",
            "weighted avg       0.57      0.55      0.40      3353\n",
            "\n"
          ]
        }
      ]
    },
    {
      "cell_type": "code",
      "source": [
        "# Guardar el modelo\n",
        "save_pkl('model_deep_learning.pkl', model)"
      ],
      "metadata": {
        "id": "5XwkayIIOY2O"
      },
      "execution_count": 38,
      "outputs": []
    },
    {
      "cell_type": "code",
      "source": [
        "!cp model_deep_learning.pkl /content/drive/MyDrive/model_deep_learning.pkl"
      ],
      "metadata": {
        "id": "NbWrfbr-Ofvb"
      },
      "execution_count": 39,
      "outputs": []
    },
    {
      "cell_type": "code",
      "source": [
        "# Cargar el modelo desde Google Drive\n",
        "model = load_pkl('/content/drive/MyDrive/model_deep_learning.pkl')\n",
        "print(model)"
      ],
      "metadata": {
        "colab": {
          "base_uri": "https://localhost:8080/"
        },
        "id": "XGBvAbaROfoh",
        "outputId": "ee5e71f4-7302-4d67-d73a-150521abc646"
      },
      "execution_count": 40,
      "outputs": [
        {
          "output_type": "stream",
          "name": "stdout",
          "text": [
            "<keras.src.engine.sequential.Sequential object at 0x7d64e26ac160>\n"
          ]
        }
      ]
    }
  ]
}